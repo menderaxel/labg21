{
 "cells": [
  {
   "cell_type": "markdown",
   "metadata": {},
   "source": [
    "# "
   ]
  },
  {
   "cell_type": "markdown",
   "metadata": {},
   "source": [
    "## Title"
   ]
  },
  {
   "cell_type": "markdown",
   "metadata": {},
   "source": [
    "$$v(x)= \\sqrt\\frac{ 2g\\left[y_{0}- y(x)\\right ]}{1+c} \\qquad (1)$$\n",
    "\n",
    "$$dt = \\frac{dy}{dx} \\qquad (2)$$\n",
    "\n",
    "$$\\beta = \\arctan \\frac{dy}{dx} \\qquad (3)$$\n",
    "\n",
    "$$ v_{x} = v \\cos(\\beta) \\qquad (4)$$\n",
    "\n",
    "$$ (v_{x})_{n} \\qquad (5)$$\n",
    "\n",
    "$$ \\Delta t = \\frac{\\Delta x_{n}}{(v_{x})_{n}} = \\frac{2\\Delta x_{n}}{(v_{x,n-1}+v_{x,n})} \\qquad (6)$$\n",
    "\n",
    "$$ t_{n}=\\sum_{j=0}^{N}\\Delta t_{j} \\qquad (7)$$\n",
    "\n",
    "$$ \\bar{x} = \\frac{1}{N}\\sum_{n=1}^{N}x_{i}\\qquad (8)$$\n",
    "\n",
    "$$ \\delta x = \\sqrt {\\frac{1}{N-1}\\sum_{n=1}^{N}(x_{i}-\\bar{x})^2} \\qquad (9)$$\n",
    "\n",
    "$$ \\delta \\bar{x} = \\frac{\\delta x}{\\sqrt N} \\qquad (10)$$\n"
   ]
  },
  {
   "cell_type": "markdown",
   "metadata": {},
   "source": []
  }
 ],
 "metadata": {
  "interpreter": {
   "hash": "31f2aee4e71d21fbe5cf8b01ff0e069b9275f58929596ceb00d14d90e3e16cd6"
  },
  "kernelspec": {
   "display_name": "Python 3.8.9 64-bit",
   "language": "python",
   "name": "python3"
  },
  "language_info": {
   "codemirror_mode": {
    "name": "ipython",
    "version": 3
   },
   "file_extension": ".py",
   "mimetype": "text/x-python",
   "name": "python",
   "nbconvert_exporter": "python",
   "pygments_lexer": "ipython3",
   "version": "3.8.9"
  },
  "orig_nbformat": 4
 },
 "nbformat": 4,
 "nbformat_minor": 2
}
