{
 "cells": [
  {
   "cell_type": "markdown",
   "metadata": {},
   "source": [
    "# "
   ]
  },
  {
   "cell_type": "markdown",
   "metadata": {},
   "source": [
    "## Teori"
   ]
  },
  {
   "cell_type": "markdown",
   "metadata": {},
   "source": [
    "Energibevaringsloven har vært sentral i utarbeidelsen av likningen for å finne farten til kulen i et gitt punkt. Vi oppfatter farten som en funksjon av den horisontale posisjonen x. Likningen for energibevarelse gir videre\n",
    "\n",
    "$$ v(x)= \\sqrt\\frac{ 2g\\left[y_{0}- y(x)\\right ]}{1+c} \\qquad (1)$$\n",
    "\n",
    "$$dt = \\frac{dy}{dx} \\qquad (2)$$\n",
    "\n",
    "Helningsvinkelen B finner vi vet å utnytte stigningstallet dy/dx slik at \n",
    "\n",
    "$$\\beta = \\arctan \\frac{dy}{dx} \\qquad (3)$$\n",
    "\n",
    "Ettersom vi nå har vinkelen kan hastigheten beregnes som\n",
    "\n",
    "$$ v_{x} = v \\cos(\\beta) \\qquad (4)$$\n",
    "\n",
    "Tidsutviklingen er sentral for å kunne sammenligne den numeriske løsningen av eksperimentet opp mot de faktiske målingene vi har gjennomført på lab. For å bestemme tidsutviklingen til kulen, det vil si kulens posisjon som en funksjon av t, anvender vi newtons 2. lov. Tiden som kulen bruker (dt) på en forflytning dx  er gitt ved dt=dx/vx  (2) fra den generelle formelen  vx = dx/dt. \n",
    "\n",
    "$$ \\Delta t = \\frac{\\Delta x_{n}}{(v_{x})_{n}} = \\frac{2\\Delta x_{n}}{(v_{x,n-1}+v_{x,n})} \\qquad (6)$$\n",
    "\n",
    "Tiden tn som kulen har brukt fram til xn beregnes ved å summere tidsperioden tilhørende hver delta x for alle xn. \n",
    "\n",
    "$$ t_{n}=\\sum_{j=0}^{N}\\Delta t_{j} \\qquad (7)$$\n",
    "\n",
    "Det er vanskelig å gjennomføre eksperimenter uten noen form for feil. Det medfører dermed en viss usikkerhet i forbindelse med eksperimentene. Størrelsen på de tilfeldige feilene i hver enkelt måling gis ved middelverdien av N målinger:\n",
    "\n",
    "$$ \\bar{x} = \\frac{1}{N}\\sum_{n=1}^{N}x_{i}\\qquad (8)$$\n",
    "\n",
    "Standardavviket, som er et uttrykk for usikkerheten i hver enkelt måling er gitt ved \n",
    "\n",
    "$$ \\delta x = \\sqrt {\\frac{1}{N-1}\\sum_{n=1}^{N}(x_{i}-\\bar{x})^2} \\qquad (9)$$\n",
    "\n",
    "alfa x er da avviket mellom den spesifikke xn målingen og den gjennomsnittlige middelverdien xn. Vi kan da uttrykke den gjennomsnittlige usikkerheten til målingene som \n",
    "\n",
    "$$ \\delta \\bar{x} = \\frac{\\delta x}{\\sqrt N} \\qquad (10)$$\n"
   ]
  },
  {
   "cell_type": "markdown",
   "metadata": {},
   "source": []
  }
 ],
 "metadata": {
  "interpreter": {
   "hash": "31f2aee4e71d21fbe5cf8b01ff0e069b9275f58929596ceb00d14d90e3e16cd6"
  },
  "kernelspec": {
   "display_name": "Python 3.8.9 64-bit",
   "language": "python",
   "name": "python3"
  },
  "language_info": {
   "codemirror_mode": {
    "name": "ipython",
    "version": 3
   },
   "file_extension": ".py",
   "mimetype": "text/x-python",
   "name": "python",
   "nbconvert_exporter": "python",
   "pygments_lexer": "ipython3",
   "version": "3.8.9"
  },
  "orig_nbformat": 4
 },
 "nbformat": 4,
 "nbformat_minor": 2
}
